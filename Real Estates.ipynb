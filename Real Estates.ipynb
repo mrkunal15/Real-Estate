{
 "cells": [
  {
   "cell_type": "markdown",
   "metadata": {},
   "source": [
    "   ## library recruitment \n",
    "   "
   ]
  },
  {
   "cell_type": "code",
   "execution_count": 1,
   "metadata": {},
   "outputs": [],
   "source": [
    "import pandas as pd\n",
    "import matplotlib.pylab as plt\n",
    "import numpy as np\n",
    "from sklearn.model_selection import train_test_split\n",
    "from sklearn.model_selection import StratifiedShuffleSplit"
   ]
  },
  {
   "cell_type": "markdown",
   "metadata": {},
   "source": [
    "## Storing the data from outer file using Pandas "
   ]
  },
  {
   "cell_type": "code",
   "execution_count": 2,
   "metadata": {},
   "outputs": [],
   "source": [
    "housing=pd.read_csv(\"data.csv\")\n",
    "housing1 = np.array(housing)\n",
    "#housing.head()"
   ]
  },
  {
   "cell_type": "markdown",
   "metadata": {},
   "source": [
    "## Checks the data and feature\n"
   ]
  },
  {
   "cell_type": "code",
   "execution_count": 3,
   "metadata": {},
   "outputs": [],
   "source": [
    "#housing.info()\n",
    "#housing.head()\n",
    "#housing.shape\n",
    "\n",
    "#housing[\"ZN\"].value_counts()\n",
    "#housing.describe()\n",
    "#housing.hist(bins=50, figsize=(20,30))\n",
    "#plt.show()"
   ]
  },
  {
   "cell_type": "markdown",
   "metadata": {},
   "source": [
    "## Take caring of missing Element(nul Blocks inside file)"
   ]
  },
  {
   "cell_type": "markdown",
   "metadata": {},
   "source": [
    "##  There are three method to deal with nul block"
   ]
  },
  {
   "cell_type": "markdown",
   "metadata": {},
   "source": [
    "# Method1 : By removing rows in which present any null values\n"
   ]
  },
  {
   "cell_type": "code",
   "execution_count": 4,
   "metadata": {},
   "outputs": [
    {
     "data": {
      "text/plain": [
       "(452, 14)"
      ]
     },
     "execution_count": 4,
     "metadata": {},
     "output_type": "execute_result"
    }
   ],
   "source": [
    "housing_removing_by_rows=housing.dropna(subset=[\"MEDV\"])\n",
    "housing_removing_by_rows.shape"
   ]
  },
  {
   "cell_type": "markdown",
   "metadata": {},
   "source": [
    "# Method2 : By removing col in which present any null values"
   ]
  },
  {
   "cell_type": "code",
   "execution_count": 5,
   "metadata": {
    "scrolled": true
   },
   "outputs": [
    {
     "data": {
      "text/plain": [
       "(506, 13)"
      ]
     },
     "execution_count": 5,
     "metadata": {},
     "output_type": "execute_result"
    }
   ],
   "source": [
    "housing_removing_by_cols=housing.drop(\"MEDV\",axis=1)\n",
    "housing_removing_by_cols.shape"
   ]
  },
  {
   "cell_type": "code",
   "execution_count": 6,
   "metadata": {},
   "outputs": [],
   "source": [
    "from sklearn.impute import SimpleImputer"
   ]
  },
  {
   "cell_type": "code",
   "execution_count": 7,
   "metadata": {},
   "outputs": [],
   "source": [
    "# Method3: By replacing null values with mean, median, most_frequent, constant\n",
    "\n",
    "imputer=SimpleImputer(strategy=\"median\")\n",
    "a=imputer.fit(housing)\n",
    "\n",
    "#a.statistics_  or imputer.statistics_\n",
    "\n",
    "x=imputer.transform(housing)\n",
    "\n",
    "housing_replace_by_median=pd.DataFrame(x,columns=housing.columns)\n",
    "housing=housing_replace_by_median\n",
    "#housing.info()\n",
    "#housing_replace_by_median.info()"
   ]
  },
  {
   "cell_type": "markdown",
   "metadata": {},
   "source": [
    "# Slicing the data for traing and testing"
   ]
  },
  {
   "cell_type": "code",
   "execution_count": 8,
   "metadata": {},
   "outputs": [],
   "source": [
    "def split_train_test(data,test_ratio):\n",
    "    shuffled=np.random.permutation(len(data))\n",
    "    test_data=shuffled[:int(len(data)*test_ratio)]\n",
    "    train_data=shuffled[int(len(data)*test_ratio):]\n",
    "    return(data.iloc[train_data],data.iloc[test_data])\n",
    "    \n",
    "train_data1,test_data1=split_train_test(housing,0.2)\n",
    "\n",
    "\n",
    "#train_data1_feature=train_data1[:14]\n",
    "#train_data1_lebal=train_data1[14:]\n",
    "#test_data1_feature=test_data1[:14]\n",
    "#test_data1_lebal=test_data1[14:]\n",
    "\n",
    "#print(test_data1)\n",
    "#test_data1_lebal.head\n",
    "#train_data1_lebal.head()\n"
   ]
  },
  {
   "cell_type": "markdown",
   "metadata": {},
   "source": [
    "#  Using Sklearn.model_selection  split into train test "
   ]
  },
  {
   "cell_type": "code",
   "execution_count": 9,
   "metadata": {},
   "outputs": [],
   "source": [
    "train_data2,test_data2=train_test_split(housing,test_size=0.2,random_state=42)\n",
    "\n",
    "\n",
    "#train_data2_feature=train_data2[:14]\n",
    "#train_data2_lebal=train_data2[14:]\n",
    "#test_data2_feature=test_data2[:14]\n",
    "#test_data2_lebal=test_data2[14:]\n",
    "\n",
    "\n",
    "#print(train_data2)\n",
    "#test_data2.shape\n",
    "#train_data2.shape\n",
    "#train_data2_feature.head()"
   ]
  },
  {
   "cell_type": "markdown",
   "metadata": {},
   "source": [
    "# Stratified split at CHAS feature"
   ]
  },
  {
   "cell_type": "code",
   "execution_count": 10,
   "metadata": {},
   "outputs": [],
   "source": [
    "from sklearn.model_selection import StratifiedShuffleSplit"
   ]
  },
  {
   "cell_type": "code",
   "execution_count": 11,
   "metadata": {},
   "outputs": [
    {
     "data": {
      "text/plain": [
       "'split=StratifiedShuffleSplit(n_splits=1, test_size=0.2, random_state=42)\\n\\nfor train_index, test_index in split.split(housing, housing[\"CHAS\"]):\\n    strat_train_set = house_data.loc[train_index]\\n    strat_test_set = house_data.loc[test_index]\\n'"
      ]
     },
     "execution_count": 11,
     "metadata": {},
     "output_type": "execute_result"
    }
   ],
   "source": [
    "'''split=StratifiedShuffleSplit(n_splits=1, test_size=0.2, random_state=42)\n",
    "\n",
    "for train_index, test_index in split.split(housing, housing[\"CHAS\"]):\n",
    "    strat_train_set = house_data.loc[train_index]\n",
    "    strat_test_set = house_data.loc[test_index]\n",
    "'''\n"
   ]
  },
  {
   "cell_type": "markdown",
   "metadata": {},
   "source": [
    "#  Looking For Correlations"
   ]
  },
  {
   "cell_type": "code",
   "execution_count": 12,
   "metadata": {},
   "outputs": [
    {
     "data": {
      "text/plain": [
       "MEDV       1.000000\n",
       "ZN         0.325159\n",
       "B          0.193664\n",
       "CHAS       0.085446\n",
       "DIS       -0.021276\n",
       "RM        -0.049154\n",
       "PTRATIO   -0.064664\n",
       "RAD       -0.074271\n",
       "NOX       -0.087402\n",
       "AGE       -0.200507\n",
       "TAX       -0.232424\n",
       "per cap   -0.268576\n",
       "INDUS     -0.338593\n",
       "LSTAT     -0.679044\n",
       "Name: MEDV, dtype: float64"
      ]
     },
     "execution_count": 12,
     "metadata": {},
     "output_type": "execute_result"
    }
   ],
   "source": [
    "corr_matrix=housing.corr()\n",
    "corr_matrix[\"MEDV\"].sort_values(ascending=False)"
   ]
  },
  {
   "cell_type": "code",
   "execution_count": 13,
   "metadata": {},
   "outputs": [],
   "source": [
    "from pandas.plotting import scatter_matrix"
   ]
  },
  {
   "cell_type": "code",
   "execution_count": 14,
   "metadata": {},
   "outputs": [
    {
     "data": {
      "text/plain": [
       "<matplotlib.axes._subplots.AxesSubplot at 0x2158bc3c908>"
      ]
     },
     "execution_count": 14,
     "metadata": {},
     "output_type": "execute_result"
    },
    {
     "data": {
      "image/png": "[encoded data removed]",
      "text/plain": [
       "<Figure size 864x576 with 16 Axes>"
      ]
     },
     "metadata": {
      "needs_background": "light"
     },
     "output_type": "display_data"
    },
    {
     "data": {
      "image/png": "[encoded data removed]",
      "text/plain": [
       "<Figure size 432x288 with 1 Axes>"
      ]
     },
     "metadata": {
      "needs_background": "light"
     },
     "output_type": "display_data"
    }
   ],
   "source": [
    "attributes=[\"MEDV\",\"RM\",\"ZN\",\"LSTAT\"]\n",
    "scatter_matrix(housing[attributes],figsize=(12,8))\n",
    "housing.plot(kind='scatter',x=\"RM\",y=\"MEDV\",alpha=0.1)"
   ]
  },
  {
   "cell_type": "code",
   "execution_count": 15,
   "metadata": {},
   "outputs": [],
   "source": [
    "housing_feature=housing.drop(\"MEDV\",axis=1)\n",
    "housing_labels=housing[\"MEDV\"].copy()\n",
    "#housing_feature=train_data2.drop(\"MEDV\",axis=1)\n",
    "#housing_labels=train_data2[\"MEDV\"].copy()"
   ]
  },
  {
   "cell_type": "code",
   "execution_count": 16,
   "metadata": {},
   "outputs": [
    {
     "data": {
      "image/png": "[encoded data removed]",
      "text/plain": [
       "<Figure size 432x288 with 1 Axes>"
      ]
     },
     "metadata": {
      "needs_background": "light"
     },
     "output_type": "display_data"
    }
   ],
   "source": [
    "housing.plot(kind=\"scatter\",x=\"RM\",y=\"MEDV\",alpha=0.5)\n",
    "plt.show()"
   ]
  },
  {
   "cell_type": "markdown",
   "metadata": {},
   "source": [
    "# Feature Scaling"
   ]
  },
  {
   "cell_type": "markdown",
   "metadata": {},
   "source": [
    "# There are two ways for feature scaling "
   ]
  },
  {
   "cell_type": "markdown",
   "metadata": {},
   "source": [
    "# 1. Min -Max Scaling(Normalization)"
   ]
  },
  {
   "cell_type": "markdown",
   "metadata": {},
   "source": [
    "# 2. Standardization"
   ]
  },
  {
   "cell_type": "code",
   "execution_count": 17,
   "metadata": {},
   "outputs": [],
   "source": [
    "from sklearn.pipeline import Pipeline\n",
    "from sklearn.preprocessing import StandardScaler"
   ]
  },
  {
   "cell_type": "code",
   "execution_count": 18,
   "metadata": {},
   "outputs": [
    {
     "data": {
      "text/plain": [
       "(506, 13)"
      ]
     },
     "execution_count": 18,
     "metadata": {},
     "output_type": "execute_result"
    }
   ],
   "source": [
    "my_pipeline=Pipeline([(\"imputer\",SimpleImputer(strategy=\"median\")),('std_scaler',StandardScaler()),])\n",
    "housing_num_tr=my_pipeline.fit_transform(housing_feature)\n",
    "housing_num_tr.shape"
   ]
  },
  {
   "cell_type": "markdown",
   "metadata": {},
   "source": [
    "#  Linear Regression"
   ]
  },
  {
   "cell_type": "code",
   "execution_count": 19,
   "metadata": {},
   "outputs": [],
   "source": [
    "from sklearn.linear_model import LinearRegression\n",
    "from sklearn.tree import DecisionTreeRegressor\n",
    "from sklearn.ensemble import RandomForestRegressor"
   ]
  },
  {
   "cell_type": "code",
   "execution_count": 20,
   "metadata": {},
   "outputs": [
    {
     "data": {
      "text/plain": [
       "RandomForestRegressor(bootstrap=True, criterion='mse', max_depth=2,\n",
       "                      max_features='auto', max_leaf_nodes=None,\n",
       "                      min_impurity_decrease=0.0, min_impurity_split=None,\n",
       "                      min_samples_leaf=1, min_samples_split=2,\n",
       "                      min_weight_fraction_leaf=0.0, n_estimators=100,\n",
       "                      n_jobs=None, oob_score=False, random_state=0, verbose=0,\n",
       "                      warm_start=False)"
      ]
     },
     "execution_count": 20,
     "metadata": {},
     "output_type": "execute_result"
    }
   ],
   "source": [
    "#model=LinearRegression()\n",
    "#model=DecisionTreeRegressor()\n",
    "model=RandomForestRegressor(max_depth=2, random_state=0,n_estimators=100)\n",
    "model.fit(housing_num_tr,housing_labels)"
   ]
  },
  {
   "cell_type": "code",
   "execution_count": 21,
   "metadata": {},
   "outputs": [
    {
     "name": "stdout",
     "output_type": "stream",
     "text": [
      "[18.17459316 25.29908113 29.84910516 20.78913058]\n"
     ]
    }
   ],
   "source": [
    "some_feature=housing_feature.iloc[1:5]\n",
    "some_label=housing_labels.iloc[1:5]\n",
    "some_data=my_pipeline.fit_transform(some_feature)\n",
    "predect_data=model.predict(some_data)\n",
    "print(predect_data)"
   ]
  },
  {
   "cell_type": "code",
   "execution_count": 22,
   "metadata": {},
   "outputs": [
    {
     "name": "stdout",
     "output_type": "stream",
     "text": [
      "1    21.6\n",
      "2    34.7\n",
      "3    33.4\n",
      "4    36.2\n",
      "Name: MEDV, dtype: float64\n"
     ]
    }
   ],
   "source": [
    "print(some_label)"
   ]
  },
  {
   "cell_type": "code",
   "execution_count": 23,
   "metadata": {},
   "outputs": [],
   "source": [
    "from sklearn.metrics import mean_squared_error"
   ]
  },
  {
   "cell_type": "code",
   "execution_count": 24,
   "metadata": {},
   "outputs": [
    {
     "name": "stdout",
     "output_type": "stream",
     "text": [
      "4.660615629263716\n"
     ]
    }
   ],
   "source": [
    "housing_predictions=model.predict(housing_num_tr)\n",
    "line_mse=mean_squared_error(housing_labels,housing_predictions)\n",
    "lin_rmse=np.sqrt(line_mse)\n",
    "print(lin_rmse)"
   ]
  },
  {
   "cell_type": "code",
   "execution_count": 59,
   "metadata": {},
   "outputs": [
    {
     "data": {
      "text/plain": [
       "array([[-0.4926937 , -0.03453748, -0.18640843, -0.45051082, -0.35078919,\n",
       "        -0.35552147,  0.23752726, -0.09466045, -0.35931399, -0.15689267,\n",
       "        -0.31331888,  0.50167425,  0.14725254],\n",
       "       [-0.46922107, -0.03453748, -0.18640843, -0.45051082, -0.35078919,\n",
       "        -0.34963767,  1.12953879, -0.03438361, -0.35931399, -0.15689267,\n",
       "        -0.31331888,  0.51205776,  1.25635818]])"
      ]
     },
     "execution_count": 59,
     "metadata": {},
     "output_type": "execute_result"
    }
   ],
   "source": [
    "housing_num_tr[6:8,:]"
   ]
  },
  {
   "cell_type": "markdown",
   "metadata": {},
   "source": [
    "# Using better evaluation technique- Cross Valitation"
   ]
  },
  {
   "cell_type": "code",
   "execution_count": 25,
   "metadata": {},
   "outputs": [],
   "source": [
    "from sklearn.model_selection import cross_val_score\n",
    "from sklearn.model_selection import cross_validate"
   ]
  },
  {
   "cell_type": "code",
   "execution_count": 26,
   "metadata": {},
   "outputs": [
    {
     "name": "stdout",
     "output_type": "stream",
     "text": [
      "[-13.95059952  -8.69403066  -5.75744696 -36.35217514 -28.38515486\n",
      " -75.19017333 -19.614412   -89.69275816 -14.77569897 -16.84406666]\n"
     ]
    }
   ],
   "source": [
    "scores = cross_validate(model, housing_num_tr,housing_labels,cv=10,scoring=( 'r2','neg_mean_squared_error'),return_train_score=True)\n",
    "print(scores['test_neg_mean_squared_error'])  "
   ]
  },
  {
   "cell_type": "code",
   "execution_count": 27,
   "metadata": {},
   "outputs": [],
   "source": [
    "rmse_score=np.sqrt(-scores['test_neg_mean_squared_error'])\n"
   ]
  },
  {
   "cell_type": "code",
   "execution_count": 28,
   "metadata": {},
   "outputs": [
    {
     "data": {
      "text/plain": [
       "array([3.73505014, 2.94856417, 2.39946806, 6.0292765 , 5.32777204,\n",
       "       8.67122675, 4.42881609, 9.47062607, 3.84391714, 4.10415237])"
      ]
     },
     "execution_count": 28,
     "metadata": {},
     "output_type": "execute_result"
    }
   ],
   "source": [
    "rmse_score"
   ]
  },
  {
   "cell_type": "code",
   "execution_count": 29,
   "metadata": {},
   "outputs": [],
   "source": [
    "def print_score(rmse_score):\n",
    "    print(\"Scores :\")\n",
    "    print(\"Mean: \",rmse_score.mean())\n",
    "    print(\"SD: \",rmse_score.std())"
   ]
  },
  {
   "cell_type": "code",
   "execution_count": 30,
   "metadata": {},
   "outputs": [
    {
     "name": "stdout",
     "output_type": "stream",
     "text": [
      "Scores :\n",
      "Mean:  5.095886932070395\n",
      "SD:  2.22656416953446\n"
     ]
    }
   ],
   "source": [
    "print_score(rmse_score)"
   ]
  },
  {
   "cell_type": "code",
   "execution_count": 31,
   "metadata": {},
   "outputs": [
    {
     "data": {
      "text/plain": [
       "['Real Estates.ipynb']"
      ]
     },
     "execution_count": 31,
     "metadata": {},
     "output_type": "execute_result"
    }
   ],
   "source": [
    "from joblib import dump,load\n",
    "dump(model,'Real Estates.ipynb')"
   ]
  }
 ],
 "metadata": {
  "kernelspec": {
   "display_name": "Python 3",
   "language": "python",
   "name": "python3"
  },
  "language_info": {
   "codemirror_mode": {
    "name": "ipython",
    "version": 3
   },
   "file_extension": ".py",
   "mimetype": "text/x-python",
   "name": "python",
   "nbconvert_exporter": "python",
   "pygments_lexer": "ipython3",
   "version": "3.7.4"
  }
 },
 "nbformat": 4,
 "nbformat_minor": 2
}
