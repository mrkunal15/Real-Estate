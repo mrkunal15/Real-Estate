{
 "cells": [
  {
   "cell_type": "code",
   "execution_count": 1,
   "metadata": {},
   "outputs": [],
   "source": [
    "from joblib import dump, load"
   ]
  },
  {
   "cell_type": "code",
   "execution_count": 2,
   "metadata": {},
   "outputs": [],
   "source": [
    "model=load('Real Estates.ipynb')"
   ]
  },
  {
   "cell_type": "code",
   "execution_count": 6,
   "metadata": {},
   "outputs": [
    {
     "name": "stdout",
     "output_type": "stream",
     "text": [
      "[20.02300745 17.88891041]\n"
     ]
    }
   ],
   "source": [
    "print(model.predict([[-0.4926937 , -0.03453748, -0.18640843, -0.45051082, -0.35078919,\n",
    "        -0.35552147,  0.23752726, -0.09466045, -0.35931399, -0.15689267,\n",
    "        -0.31331888,  0.50167425,  0.14725254],\n",
    "       [-0.46922107, -0.03453748, -0.18640843, -0.45051082, -0.35078919,\n",
    "        -0.34963767,  1.12953879, -0.03438361, -0.35931399, -0.15689267,\n",
    "        -0.31331888,  0.51205776,  1.25635818]]))"
   ]
  },
  {
   "cell_type": "code",
   "execution_count": null,
   "metadata": {},
   "outputs": [],
   "source": []
  }
 ],
 "metadata": {
  "kernelspec": {
   "display_name": "Python 3",
   "language": "python",
   "name": "python3"
  },
  "language_info": {
   "codemirror_mode": {
    "name": "ipython",
    "version": 3
   },
   "file_extension": ".py",
   "mimetype": "text/x-python",
   "name": "python",
   "nbconvert_exporter": "python",
   "pygments_lexer": "ipython3",
   "version": "3.7.4"
  }
 },
 "nbformat": 4,
 "nbformat_minor": 2
}
